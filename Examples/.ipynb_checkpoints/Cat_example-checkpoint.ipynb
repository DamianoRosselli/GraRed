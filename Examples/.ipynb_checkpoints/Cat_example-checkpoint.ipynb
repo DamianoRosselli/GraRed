{
 "cells": [
  {
   "cell_type": "code",
   "execution_count": 1,
   "metadata": {},
   "outputs": [],
   "source": [
    "import numpy as np\n",
    "import pandas as pd\n",
    "import sys \n",
    "sys.path.append('/home/riccardo/GraRed')\n",
    "from GraRed import Catalogue\n",
    "import matplotlib.pyplot as plt"
   ]
  },
  {
   "cell_type": "code",
   "execution_count": 2,
   "metadata": {},
   "outputs": [],
   "source": [
    "df =pd.read_parquet('/home/riccardo/GraRed/Data/SDSS_galaxy_cat.parquet')"
   ]
  },
  {
   "cell_type": "code",
   "execution_count": 3,
   "metadata": {},
   "outputs": [
    {
     "data": {
      "text/plain": [
       "<GraRed.Catalogue.Galaxies at 0x7f6247e729d0>"
      ]
     },
     "execution_count": 3,
     "metadata": {},
     "output_type": "execute_result"
    }
   ],
   "source": [
    "\n",
    "gal = Catalogue.Galaxies(df['RA[deg]'].values,df['DEC[deg]'].values,df['Z'].values,redshift_err=df['zerr'].values)\n",
    "gal"
   ]
  },
  {
   "cell_type": "code",
   "execution_count": 4,
   "metadata": {},
   "outputs": [],
   "source": [
    "df =pd.read_parquet('/home/riccardo/GraRed/Data/WH15_cluster_cat.parquet')\n",
    "m = 1.08*np.log10(df.RL500.values) - 1.37 +14\n",
    "df['M500']=10**m\n",
    "\n",
    "rand_gen = np.random.default_rng(1234)\n",
    "\n",
    "\n",
    "dd = df.loc[rand_gen.choice(df.index,500,replace=False)]\n"
   ]
  },
  {
   "cell_type": "code",
   "execution_count": 5,
   "metadata": {},
   "outputs": [
    {
     "name": "stdout",
     "output_type": "stream",
     "text": [
      "if the masses are in logharitmic scale, please change it or the code will not work\n",
      "attention convertion works only if M500 are given\n"
     ]
    },
    {
     "data": {
      "text/plain": [
       "<GraRed.Catalogue.Cluster at 0x7f6247561d00>"
      ]
     },
     "execution_count": 5,
     "metadata": {},
     "output_type": "execute_result"
    }
   ],
   "source": [
    "cl = Catalogue.Cluster(dd['RA[deg]'].values,dd['Dec[deg]'].values,dd['z'].values,mass=dd['M500'].values,radius=dd['R500[Mpc]'].values,\n",
    "concentration=None,fr0=1e-4,\n",
    "                compute_radius=True,compute_conc=True,convert_to_fr=True,is_crit=True,\n",
    "                delta=500,gravity='f(R)', seed=1234)\n",
    "\n",
    "cl"
   ]
  },
  {
   "cell_type": "code",
   "execution_count": 6,
   "metadata": {},
   "outputs": [
    {
     "data": {
      "text/html": [
       "<div>\n",
       "<style scoped>\n",
       "    .dataframe tbody tr th:only-of-type {\n",
       "        vertical-align: middle;\n",
       "    }\n",
       "\n",
       "    .dataframe tbody tr th {\n",
       "        vertical-align: top;\n",
       "    }\n",
       "\n",
       "    .dataframe thead th {\n",
       "        text-align: right;\n",
       "    }\n",
       "</style>\n",
       "<table border=\"1\" class=\"dataframe\">\n",
       "  <thead>\n",
       "    <tr style=\"text-align: right;\">\n",
       "      <th></th>\n",
       "      <th>ID</th>\n",
       "      <th>RA</th>\n",
       "      <th>Dec</th>\n",
       "      <th>redshift</th>\n",
       "      <th>M_500</th>\n",
       "      <th>Dc</th>\n",
       "      <th>Dm</th>\n",
       "      <th>R_500</th>\n",
       "      <th>c_500</th>\n",
       "    </tr>\n",
       "  </thead>\n",
       "  <tbody>\n",
       "    <tr>\n",
       "      <th>0</th>\n",
       "      <td>0</td>\n",
       "      <td>121.07097</td>\n",
       "      <td>40.96972</td>\n",
       "      <td>0.5002</td>\n",
       "      <td>1.795504e+14</td>\n",
       "      <td>1947.088481</td>\n",
       "      <td>1947.088481</td>\n",
       "      <td>0.203808</td>\n",
       "      <td>3.031797</td>\n",
       "    </tr>\n",
       "    <tr>\n",
       "      <th>1</th>\n",
       "      <td>1</td>\n",
       "      <td>152.55180</td>\n",
       "      <td>7.98580</td>\n",
       "      <td>0.4567</td>\n",
       "      <td>1.723242e+14</td>\n",
       "      <td>1799.018680</td>\n",
       "      <td>1799.018680</td>\n",
       "      <td>0.204578</td>\n",
       "      <td>2.968167</td>\n",
       "    </tr>\n",
       "    <tr>\n",
       "      <th>2</th>\n",
       "      <td>2</td>\n",
       "      <td>343.95486</td>\n",
       "      <td>32.73777</td>\n",
       "      <td>0.4643</td>\n",
       "      <td>1.747235e+14</td>\n",
       "      <td>1825.168610</td>\n",
       "      <td>1825.168610</td>\n",
       "      <td>0.204899</td>\n",
       "      <td>2.992159</td>\n",
       "    </tr>\n",
       "    <tr>\n",
       "      <th>3</th>\n",
       "      <td>3</td>\n",
       "      <td>240.42873</td>\n",
       "      <td>22.83217</td>\n",
       "      <td>0.4050</td>\n",
       "      <td>1.567219e+14</td>\n",
       "      <td>1617.938944</td>\n",
       "      <td>1617.938944</td>\n",
       "      <td>0.202329</td>\n",
       "      <td>3.053472</td>\n",
       "    </tr>\n",
       "    <tr>\n",
       "      <th>4</th>\n",
       "      <td>4</td>\n",
       "      <td>28.18143</td>\n",
       "      <td>-4.14231</td>\n",
       "      <td>0.0945</td>\n",
       "      <td>6.996513e+13</td>\n",
       "      <td>409.329013</td>\n",
       "      <td>409.329013</td>\n",
       "      <td>0.173601</td>\n",
       "      <td>3.291944</td>\n",
       "    </tr>\n",
       "    <tr>\n",
       "      <th>...</th>\n",
       "      <td>...</td>\n",
       "      <td>...</td>\n",
       "      <td>...</td>\n",
       "      <td>...</td>\n",
       "      <td>...</td>\n",
       "      <td>...</td>\n",
       "      <td>...</td>\n",
       "      <td>...</td>\n",
       "      <td>...</td>\n",
       "    </tr>\n",
       "    <tr>\n",
       "      <th>495</th>\n",
       "      <td>495</td>\n",
       "      <td>322.50192</td>\n",
       "      <td>4.71461</td>\n",
       "      <td>0.6011</td>\n",
       "      <td>1.671350e+14</td>\n",
       "      <td>2275.903491</td>\n",
       "      <td>2275.903491</td>\n",
       "      <td>0.191039</td>\n",
       "      <td>2.849439</td>\n",
       "    </tr>\n",
       "    <tr>\n",
       "      <th>496</th>\n",
       "      <td>496</td>\n",
       "      <td>156.40155</td>\n",
       "      <td>36.26064</td>\n",
       "      <td>0.1218</td>\n",
       "      <td>7.730769e+13</td>\n",
       "      <td>524.023631</td>\n",
       "      <td>524.023631</td>\n",
       "      <td>0.177798</td>\n",
       "      <td>3.354698</td>\n",
       "    </tr>\n",
       "    <tr>\n",
       "      <th>497</th>\n",
       "      <td>497</td>\n",
       "      <td>198.71535</td>\n",
       "      <td>27.47644</td>\n",
       "      <td>0.1980</td>\n",
       "      <td>1.135806e+14</td>\n",
       "      <td>835.571915</td>\n",
       "      <td>835.571915</td>\n",
       "      <td>0.196711</td>\n",
       "      <td>3.208656</td>\n",
       "    </tr>\n",
       "    <tr>\n",
       "      <th>498</th>\n",
       "      <td>498</td>\n",
       "      <td>10.29061</td>\n",
       "      <td>10.50953</td>\n",
       "      <td>0.5234</td>\n",
       "      <td>1.450556e+14</td>\n",
       "      <td>2024.484307</td>\n",
       "      <td>2024.484307</td>\n",
       "      <td>0.188051</td>\n",
       "      <td>2.891908</td>\n",
       "    </tr>\n",
       "    <tr>\n",
       "      <th>499</th>\n",
       "      <td>499</td>\n",
       "      <td>244.40431</td>\n",
       "      <td>7.44713</td>\n",
       "      <td>0.4145</td>\n",
       "      <td>3.400934e+14</td>\n",
       "      <td>1651.632898</td>\n",
       "      <td>1651.632898</td>\n",
       "      <td>0.260963</td>\n",
       "      <td>2.821561</td>\n",
       "    </tr>\n",
       "  </tbody>\n",
       "</table>\n",
       "<p>500 rows × 9 columns</p>\n",
       "</div>"
      ],
      "text/plain": [
       "      ID         RA       Dec  redshift         M_500           Dc  \\\n",
       "0      0  121.07097  40.96972    0.5002  1.795504e+14  1947.088481   \n",
       "1      1  152.55180   7.98580    0.4567  1.723242e+14  1799.018680   \n",
       "2      2  343.95486  32.73777    0.4643  1.747235e+14  1825.168610   \n",
       "3      3  240.42873  22.83217    0.4050  1.567219e+14  1617.938944   \n",
       "4      4   28.18143  -4.14231    0.0945  6.996513e+13   409.329013   \n",
       "..   ...        ...       ...       ...           ...          ...   \n",
       "495  495  322.50192   4.71461    0.6011  1.671350e+14  2275.903491   \n",
       "496  496  156.40155  36.26064    0.1218  7.730769e+13   524.023631   \n",
       "497  497  198.71535  27.47644    0.1980  1.135806e+14   835.571915   \n",
       "498  498   10.29061  10.50953    0.5234  1.450556e+14  2024.484307   \n",
       "499  499  244.40431   7.44713    0.4145  3.400934e+14  1651.632898   \n",
       "\n",
       "              Dm     R_500     c_500  \n",
       "0    1947.088481  0.203808  3.031797  \n",
       "1    1799.018680  0.204578  2.968167  \n",
       "2    1825.168610  0.204899  2.992159  \n",
       "3    1617.938944  0.202329  3.053472  \n",
       "4     409.329013  0.173601  3.291944  \n",
       "..           ...       ...       ...  \n",
       "495  2275.903491  0.191039  2.849439  \n",
       "496   524.023631  0.177798  3.354698  \n",
       "497   835.571915  0.196711  3.208656  \n",
       "498  2024.484307  0.188051  2.891908  \n",
       "499  1651.632898  0.260963  2.821561  \n",
       "\n",
       "[500 rows x 9 columns]"
      ]
     },
     "execution_count": 6,
     "metadata": {},
     "output_type": "execute_result"
    }
   ],
   "source": [
    "cl.data"
   ]
  },
  {
   "cell_type": "code",
   "execution_count": 11,
   "metadata": {},
   "outputs": [
    {
     "data": {
      "text/plain": [
       "<matplotlib.collections.PathCollection at 0x7f6246514fd0>"
      ]
     },
     "execution_count": 11,
     "metadata": {},
     "output_type": "execute_result"
    },
    {
     "data": {
      "image/png": "[encoded data removed]",
      "text/plain": [
       "<Figure size 640x480 with 1 Axes>"
      ]
     },
     "metadata": {},
     "output_type": "display_data"
    }
   ],
   "source": [
    "#plt.scatter(np.array(dd['R500[Mpc]']),np.array(dd['M500']))\n",
    "#plt.scatter(np.array(dd['R500[Mpc]']),np.array(cl.concentration))\n",
    "#plt.scatter(np.array(dd['M500']),np.array(cl.concentration))\n",
    "plt.scatter(np.array(dd['z']),np.array(cl.concentration))"
   ]
  },
  {
   "cell_type": "code",
   "execution_count": null,
   "metadata": {},
   "outputs": [],
   "source": []
  }
 ],
 "metadata": {
  "kernelspec": {
   "display_name": "Python 3 (ipykernel)",
   "language": "python",
   "name": "python3"
  },
  "language_info": {
   "codemirror_mode": {
    "name": "ipython",
    "version": 3
   },
   "file_extension": ".py",
   "mimetype": "text/x-python",
   "name": "python",
   "nbconvert_exporter": "python",
   "pygments_lexer": "ipython3",
   "version": "3.9.13"
  }
 },
 "nbformat": 4,
 "nbformat_minor": 2
}
