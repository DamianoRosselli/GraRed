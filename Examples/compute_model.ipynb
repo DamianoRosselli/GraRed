{
 "cells": [
  {
   "cell_type": "code",
   "execution_count": 1,
   "id": "8ddb8206",
   "metadata": {},
   "outputs": [],
   "source": [
    "import numpy as np\n",
    "import pandas as pd\n",
    "import sys \n",
    "sys.path.append('/home/rosselli/GraRed')\n",
    "from GraRed import Catalogue, model"
   ]
  },
  {
   "cell_type": "code",
   "execution_count": 2,
   "id": "0ff38f33",
   "metadata": {},
   "outputs": [
    {
     "name": "stdout",
     "output_type": "stream",
     "text": [
      "if the masses are in logharitmic scale, please change it or the code will not work\n",
      "CPU times: user 1min 17s, sys: 2.44 s, total: 1min 19s\n",
      "Wall time: 1min 15s\n"
     ]
    },
    {
     "data": {
      "text/html": [
       "<div>\n",
       "<style scoped>\n",
       "    .dataframe tbody tr th:only-of-type {\n",
       "        vertical-align: middle;\n",
       "    }\n",
       "\n",
       "    .dataframe tbody tr th {\n",
       "        vertical-align: top;\n",
       "    }\n",
       "\n",
       "    .dataframe thead th {\n",
       "        text-align: right;\n",
       "    }\n",
       "</style>\n",
       "<table border=\"1\" class=\"dataframe\">\n",
       "  <thead>\n",
       "    <tr style=\"text-align: right;\">\n",
       "      <th></th>\n",
       "      <th>ID</th>\n",
       "      <th>RA</th>\n",
       "      <th>Dec</th>\n",
       "      <th>redshift</th>\n",
       "      <th>M_500</th>\n",
       "      <th>Dc</th>\n",
       "      <th>Dm</th>\n",
       "      <th>R_500</th>\n",
       "      <th>c_500</th>\n",
       "    </tr>\n",
       "  </thead>\n",
       "  <tbody>\n",
       "    <tr>\n",
       "      <th>0</th>\n",
       "      <td>0</td>\n",
       "      <td>121.07097</td>\n",
       "      <td>40.96972</td>\n",
       "      <td>0.5002</td>\n",
       "      <td>1.558703e+14</td>\n",
       "      <td>1947.088481</td>\n",
       "      <td>1947.088481</td>\n",
       "      <td>0.65</td>\n",
       "      <td>2.022359</td>\n",
       "    </tr>\n",
       "    <tr>\n",
       "      <th>1</th>\n",
       "      <td>1</td>\n",
       "      <td>152.55180</td>\n",
       "      <td>7.98580</td>\n",
       "      <td>0.4567</td>\n",
       "      <td>1.495051e+14</td>\n",
       "      <td>1799.018680</td>\n",
       "      <td>1799.018680</td>\n",
       "      <td>0.68</td>\n",
       "      <td>1.924187</td>\n",
       "    </tr>\n",
       "    <tr>\n",
       "      <th>2</th>\n",
       "      <td>2</td>\n",
       "      <td>343.95486</td>\n",
       "      <td>32.73777</td>\n",
       "      <td>0.4643</td>\n",
       "      <td>1.516044e+14</td>\n",
       "      <td>1825.168610</td>\n",
       "      <td>1825.168610</td>\n",
       "      <td>0.71</td>\n",
       "      <td>2.038161</td>\n",
       "    </tr>\n",
       "    <tr>\n",
       "      <th>3</th>\n",
       "      <td>3</td>\n",
       "      <td>240.42873</td>\n",
       "      <td>22.83217</td>\n",
       "      <td>0.4050</td>\n",
       "      <td>1.358822e+14</td>\n",
       "      <td>1617.938944</td>\n",
       "      <td>1617.938944</td>\n",
       "      <td>0.67</td>\n",
       "      <td>2.081555</td>\n",
       "    </tr>\n",
       "    <tr>\n",
       "      <th>4</th>\n",
       "      <td>4</td>\n",
       "      <td>28.18143</td>\n",
       "      <td>-4.14231</td>\n",
       "      <td>0.0945</td>\n",
       "      <td>6.059494e+13</td>\n",
       "      <td>409.329013</td>\n",
       "      <td>409.329013</td>\n",
       "      <td>0.61</td>\n",
       "      <td>2.590286</td>\n",
       "    </tr>\n",
       "    <tr>\n",
       "      <th>...</th>\n",
       "      <td>...</td>\n",
       "      <td>...</td>\n",
       "      <td>...</td>\n",
       "      <td>...</td>\n",
       "      <td>...</td>\n",
       "      <td>...</td>\n",
       "      <td>...</td>\n",
       "      <td>...</td>\n",
       "      <td>...</td>\n",
       "    </tr>\n",
       "    <tr>\n",
       "      <th>495</th>\n",
       "      <td>495</td>\n",
       "      <td>322.50192</td>\n",
       "      <td>4.71461</td>\n",
       "      <td>0.6011</td>\n",
       "      <td>1.452525e+14</td>\n",
       "      <td>2275.903491</td>\n",
       "      <td>2275.903491</td>\n",
       "      <td>0.61</td>\n",
       "      <td>1.687941</td>\n",
       "    </tr>\n",
       "    <tr>\n",
       "      <th>496</th>\n",
       "      <td>496</td>\n",
       "      <td>156.40155</td>\n",
       "      <td>36.26064</td>\n",
       "      <td>0.1218</td>\n",
       "      <td>6.695555e+13</td>\n",
       "      <td>524.023631</td>\n",
       "      <td>524.023631</td>\n",
       "      <td>0.59</td>\n",
       "      <td>2.859511</td>\n",
       "    </tr>\n",
       "    <tr>\n",
       "      <th>497</th>\n",
       "      <td>497</td>\n",
       "      <td>198.71535</td>\n",
       "      <td>27.47644</td>\n",
       "      <td>0.1980</td>\n",
       "      <td>9.838621e+13</td>\n",
       "      <td>835.571915</td>\n",
       "      <td>835.571915</td>\n",
       "      <td>0.62</td>\n",
       "      <td>1.896146</td>\n",
       "    </tr>\n",
       "    <tr>\n",
       "      <th>498</th>\n",
       "      <td>498</td>\n",
       "      <td>10.29061</td>\n",
       "      <td>10.50953</td>\n",
       "      <td>0.5234</td>\n",
       "      <td>1.258490e+14</td>\n",
       "      <td>2024.484307</td>\n",
       "      <td>2024.484307</td>\n",
       "      <td>0.62</td>\n",
       "      <td>2.037171</td>\n",
       "    </tr>\n",
       "    <tr>\n",
       "      <th>499</th>\n",
       "      <td>499</td>\n",
       "      <td>244.40431</td>\n",
       "      <td>7.44713</td>\n",
       "      <td>0.4145</td>\n",
       "      <td>2.960798e+14</td>\n",
       "      <td>1651.632898</td>\n",
       "      <td>1651.632898</td>\n",
       "      <td>0.87</td>\n",
       "      <td>1.964197</td>\n",
       "    </tr>\n",
       "  </tbody>\n",
       "</table>\n",
       "<p>500 rows × 9 columns</p>\n",
       "</div>"
      ],
      "text/plain": [
       "      ID         RA       Dec  redshift         M_500           Dc  \\\n",
       "0      0  121.07097  40.96972    0.5002  1.558703e+14  1947.088481   \n",
       "1      1  152.55180   7.98580    0.4567  1.495051e+14  1799.018680   \n",
       "2      2  343.95486  32.73777    0.4643  1.516044e+14  1825.168610   \n",
       "3      3  240.42873  22.83217    0.4050  1.358822e+14  1617.938944   \n",
       "4      4   28.18143  -4.14231    0.0945  6.059494e+13   409.329013   \n",
       "..   ...        ...       ...       ...           ...          ...   \n",
       "495  495  322.50192   4.71461    0.6011  1.452525e+14  2275.903491   \n",
       "496  496  156.40155  36.26064    0.1218  6.695555e+13   524.023631   \n",
       "497  497  198.71535  27.47644    0.1980  9.838621e+13   835.571915   \n",
       "498  498   10.29061  10.50953    0.5234  1.258490e+14  2024.484307   \n",
       "499  499  244.40431   7.44713    0.4145  2.960798e+14  1651.632898   \n",
       "\n",
       "              Dm  R_500     c_500  \n",
       "0    1947.088481   0.65  2.022359  \n",
       "1    1799.018680   0.68  1.924187  \n",
       "2    1825.168610   0.71  2.038161  \n",
       "3    1617.938944   0.67  2.081555  \n",
       "4     409.329013   0.61  2.590286  \n",
       "..           ...    ...       ...  \n",
       "495  2275.903491   0.61  1.687941  \n",
       "496   524.023631   0.59  2.859511  \n",
       "497   835.571915   0.62  1.896146  \n",
       "498  2024.484307   0.62  2.037171  \n",
       "499  1651.632898   0.87  1.964197  \n",
       "\n",
       "[500 rows x 9 columns]"
      ]
     },
     "execution_count": 2,
     "metadata": {},
     "output_type": "execute_result"
    }
   ],
   "source": [
    "%%time\n",
    "dd =pd.read_parquet('/home/rosselli/GraRed/Data/WH15_cluster_cat.parquet')\n",
    "m = 1.08*np.log10(dd.RL500.values) - 1.37 +14\n",
    "dd['M500']=10**m\n",
    "rand_gen = np.random.default_rng(1234)\n",
    "\n",
    "\n",
    "dd = dd.loc[rand_gen.choice(dd.index,500,replace=False)]\n",
    "cl = Catalogue.Cluster(dd['RA[deg]'].values,dd['Dec[deg]'].values,dd['z'].values,mass=dd['M500'].values,radius=dd['R500[Mpc]'].values,\n",
    "concentration=None,compute_conc=True,is_crit=True, delta=500,gravity='GR', seed=1234)\n",
    "cl.data"
   ]
  },
  {
   "cell_type": "code",
   "execution_count": 3,
   "id": "a2ec3892",
   "metadata": {},
   "outputs": [
    {
     "name": "stderr",
     "output_type": "stream",
     "text": [
      "/tmp/ipykernel_935632/3332868403.py:16: RuntimeWarning: invalid value encountered in divide\n",
      "  error=error/(hist_dm*np.log(10))\n",
      "/tmp/ipykernel_935632/3332868403.py:18: RuntimeWarning: divide by zero encountered in log10\n",
      "  loghist=np.log10(hist_dm)\n"
     ]
    },
    {
     "data": {
      "text/plain": [
       "array([0.0647408 , 0.05606718, 0.05560571, 0.06204207, 0.06701309,\n",
       "       0.07238241, 0.09477083, 0.13094471, 0.13094471, 0.11607008,\n",
       "       0.14476483, 0.21714724, 0.43429448, 0.43429448, 0.43429448,\n",
       "       0.43429448, 0.30709257])"
      ]
     },
     "execution_count": 3,
     "metadata": {},
     "output_type": "execute_result"
    }
   ],
   "source": [
    "mask = np.log10(cl.data.M_500.values)>14.\n",
    "mass = cl.data.M_500.values[mask]\n",
    "bins=np.logspace(np.min(np.log10(mass)),np.max(np.log10(mass)),20)\n",
    "hist,_=np.histogram(mass,bins)\n",
    "\n",
    "\n",
    "mean_bin=np.empty(len(hist),dtype=float)\n",
    "hist_dm=np.empty(len(hist),dtype=float)\n",
    "error=np.empty(len(hist),dtype=float)\n",
    "\n",
    "for i in range(len(hist)):\n",
    "    hist_dm[i]=hist[i]/((bins[i+1]-bins[i]))\n",
    "    mean_bin[i]=(bins[i]+bins[i+1])*0.5\n",
    "    error[i]=np.sqrt(hist[i])/((bins[i+1]-bins[i]))\n",
    "    \n",
    "error=error/(hist_dm*np.log(10))\n",
    "logbin=np.log10(mean_bin)\n",
    "loghist=np.log10(hist_dm)\n",
    "\n",
    "idx = np.isfinite(loghist)\n",
    "loghist=loghist[idx]\n",
    "logbin=logbin[idx]\n",
    "error=error[idx]\n",
    "\n",
    "error"
   ]
  },
  {
   "cell_type": "code",
   "execution_count": 4,
   "id": "8c708987",
   "metadata": {},
   "outputs": [
    {
     "data": {
      "text/plain": [
       "[<matplotlib.lines.Line2D at 0x7f4de84a7640>]"
      ]
     },
     "execution_count": 4,
     "metadata": {},
     "output_type": "execute_result"
    },
    {
     "data": {
      "image/png": "[encoded data removed]",
      "text/plain": [
       "<Figure size 640x480 with 1 Axes>"
      ]
     },
     "metadata": {},
     "output_type": "display_data"
    }
   ],
   "source": [
    "\n",
    "\n",
    "import matplotlib.pyplot as plt\n",
    "from scipy.interpolate import UnivariateSpline as spline\n",
    "\n",
    "ff = spline(logbin,loghist,error)\n",
    "f= spline(logbin,loghist)\n",
    "\n",
    "plt.figure()\n",
    "plt.errorbar(logbin,loghist,error)\n",
    "plt.plot(logbin,ff(logbin))\n",
    "plt.plot(logbin,f(logbin))\n",
    "\n"
   ]
  },
  {
   "cell_type": "code",
   "execution_count": 5,
   "id": "18c4a2b2",
   "metadata": {},
   "outputs": [
    {
     "name": "stdout",
     "output_type": "stream",
     "text": [
      "CPU times: user 336 ms, sys: 0 ns, total: 336 ms\n",
      "Wall time: 335 ms\n"
     ]
    }
   ],
   "source": [
    "%%time\n",
    "rr, redshift_gr,redshift_gr_td, finale, FR=model.compute_gra_red_gr_model(cl.data.redshift.values,\n",
    "                                                                           cl.data.R_500.values,\n",
    "                                                                           cl.data.M_500.values,\n",
    "                                                                           cl.data.c_500.values,\n",
    "                                                                           mass_func=ff,\n",
    "                                                                           survey_lim_mag=22,compute_fr=True)"
   ]
  },
  {
   "cell_type": "code",
   "execution_count": 6,
   "id": "f715db28",
   "metadata": {},
   "outputs": [
    {
     "name": "stderr",
     "output_type": "stream",
     "text": [
      "/home/rosselli/.local/lib/python3.10/site-packages/scipy/integrate/_quadpack_py.py:1225: IntegrationWarning: The maximum number of subdivisions (50) has been achieved.\n",
      "  If increasing the limit yields no improvement it is advised to analyze \n",
      "  the integrand in order to determine the difficulties.  If the position of a \n",
      "  local difficulty can be determined (singularity, discontinuity) one will \n",
      "  probably gain from splitting up the interval and calling the integrator \n",
      "  on the subranges.  Perhaps a special-purpose integrator should be used.\n",
      "  quad_r = quad(f, low, high, args=args, full_output=self.full_output,\n"
     ]
    },
    {
     "name": "stdout",
     "output_type": "stream",
     "text": [
      "CPU times: user 16min 24s, sys: 200 µs, total: 16min 24s\n",
      "Wall time: 16min 24s\n"
     ]
    }
   ],
   "source": [
    "%%time\n",
    "rr_dgp, redshift_gr_dgp,redshift_gr_td_dgp, finale_dgp=model.compute_gra_red_DGP_model(cl.data.redshift.values,\n",
    "                                                                           cl.data.R_500.values,\n",
    "                                                                           cl.data.M_500.values,\n",
    "                                                                           cl.data.c_500.values,\n",
    "                                                                           mass_func=ff,\n",
    "                                                                           survey_lim_mag=22)"
   ]
  },
  {
   "cell_type": "code",
   "execution_count": 7,
   "id": "3a207eb8",
   "metadata": {},
   "outputs": [
    {
     "data": {
      "image/png": "[encoded data removed]",
      "text/plain": [
       "<Figure size 640x480 with 1 Axes>"
      ]
     },
     "metadata": {},
     "output_type": "display_data"
    }
   ],
   "source": [
    "plt.figure()\n",
    "plt.plot(rr,finale,label='GR')\n",
    "plt.plot(rr,FR,label='f(R)')\n",
    "plt.plot(rr_dgp,finale_dgp,label='DGP')\n",
    "plt.axhline(0,c='k')\n",
    "plt.legend()\n",
    "plt.show()"
   ]
  },
  {
   "cell_type": "code",
   "execution_count": null,
   "id": "65546094",
   "metadata": {},
   "outputs": [],
   "source": []
  }
 ],
 "metadata": {
  "kernelspec": {
   "display_name": "Python 3 (ipykernel)",
   "language": "python",
   "name": "python3"
  },
  "language_info": {
   "codemirror_mode": {
    "name": "ipython",
    "version": 3
   },
   "file_extension": ".py",
   "mimetype": "text/x-python",
   "name": "python",
   "nbconvert_exporter": "python",
   "pygments_lexer": "ipython3",
   "version": "3.10.12"
  }
 },
 "nbformat": 4,
 "nbformat_minor": 5
}
